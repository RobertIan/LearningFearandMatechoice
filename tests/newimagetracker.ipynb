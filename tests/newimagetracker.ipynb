{
 "cells": [
  {
   "cell_type": "code",
   "execution_count": 1,
   "metadata": {
    "collapsed": false
   },
   "outputs": [],
   "source": [
    "import imageio\n",
    "import sys\n",
    "import numpy as np\n",
    "import visvis as vv\n",
    "from skimage import color, measure, morphology\n",
    "from skimage.feature import canny\n",
    "from scipy import ndimage\n",
    "from skvideo.io import VideoCapture\n",
    "import matplotlib.pyplot as plt\n",
    "import pylab\n",
    "from scipy import ndimage as ndi\n",
    "from skimage.filters import sobel\n",
    "from skimage.morphology import watershed\n",
    "from skimage.filters import threshold_otsu\n",
    "from skimage.segmentation import clear_border\n",
    "from skimage.measure import label\n",
    "from skimage.morphology import closing, square\n",
    "from skimage.measure import regionprops\n",
    "from skimage.color import label2rgb\n",
    "import matplotlib.patches as mpatches\n"
   ]
  },
  {
   "cell_type": "code",
   "execution_count": 2,
   "metadata": {
    "collapsed": true
   },
   "outputs": [],
   "source": [
    "def readvideo(src):\n",
    "    return imageio.get_reader(src)"
   ]
  },
  {
   "cell_type": "code",
   "execution_count": 3,
   "metadata": {
    "collapsed": false
   },
   "outputs": [],
   "source": [
    "vid = imageio.get_reader('../sailfin_3_300_F_Hillary_1_4_5_L.mpg', 'ffmpeg')"
   ]
  },
  {
   "cell_type": "code",
   "execution_count": 4,
   "metadata": {
    "collapsed": false
   },
   "outputs": [],
   "source": [
    "framix = 200#np.linspace(120,len(vid),1)\n",
    "#for num in framix:\n",
    "frame = vid.get_data(framix)\n",
    "earlyframe = vid.get_data(3000)\n",
    "#lateframe = vid.get_data(100)\n",
    "midframe = vid.get_data(1000)\n",
    "earlyframe = color.rgb2gray(earlyframe)\n",
    "midframe = color.rgb2gray(midframe)\n",
    "greyframe = color.rgb2gray(frame)\n",
    "avg = earlyframe+midframe+greyframe/3"
   ]
  },
  {
   "cell_type": "code",
   "execution_count": 77,
   "metadata": {
    "collapsed": false
   },
   "outputs": [
    {
     "name": "stdout",
     "output_type": "stream",
     "text": [
      "(1080, 1920, 3)\n"
     ]
    }
   ],
   "source": [
    "print frame.shape"
   ]
  },
  {
   "cell_type": "code",
   "execution_count": 35,
   "metadata": {
    "collapsed": false
   },
   "outputs": [],
   "source": [
    "frame = color.rgb2gray(frame)\n",
    "edges = canny(frame/255.)\n",
    "fill = ndi.binary_fill_holes(edges)\n",
    "label_objects, nb_levels = ndi.label(fill)\n",
    "sizes = np.bincount(label_objects.ravel())\n",
    "mask_sizes = sizes > 100\n",
    "mask_sizes[0] = 0\n",
    "clean_fill = mask_sizes[label_objects]\n",
    "plt.imshow(edges)\n",
    "plt.show()"
   ]
  },
  {
   "cell_type": "code",
   "execution_count": 62,
   "metadata": {
    "collapsed": false
   },
   "outputs": [],
   "source": [
    "histo = np.histogram(frame, bins=np.arange(0, 100))\n",
    "sobf = sobel(frame)\n",
    "markers = np.zeros_like(frame)\n",
    "markers[frame < 2] = 2\n",
    "markers[frame > 2 ] = 1\n",
    "segm = watershed(sobf, markers)\n",
    "plt.hist(histo)\n",
    "#plt.imshow(segm)\n",
    "plt.show()"
   ]
  },
  {
   "cell_type": "code",
   "execution_count": null,
   "metadata": {
    "collapsed": true
   },
   "outputs": [],
   "source": []
  },
  {
   "cell_type": "code",
   "execution_count": 8,
   "metadata": {
    "collapsed": false
   },
   "outputs": [],
   "source": [
    "frame = color.rgb2gray(frame)\n",
    "frame = abs(frame-avg)\n",
    "thresh = threshold_otsu(frame)\n",
    "bw = closing(frame > thresh, square(3))\n",
    "cleared = bw.copy()\n",
    "clear_border(cleared)\n",
    "label_image = label(cleared)\n",
    "borders = np.logical_xor(bw, cleared)\n",
    "label_image[borders] = -1\n",
    "image_label_overlay = label2rgb(label_image, image=frame)\n",
    "\n",
    "fig, ax = plt.subplots(ncols=1, nrows=1, figsize=(6, 6))\n",
    "ax.imshow(image_label_overlay)\n",
    "for region in regionprops(label_image):\n",
    "\n",
    "    # skip small images\n",
    "    if region.area < 100:\n",
    "        continue\n",
    "\n",
    "    # draw rectangle around segmented coins\n",
    "    minr, minc, maxr, maxc = region.bbox\n",
    "    rect = mpatches.Rectangle((minc, minr), maxc - minc, maxr - minr,\n",
    "                              fill=False, edgecolor='red', linewidth=2)\n",
    "    ax.add_patch(rect)\n",
    "plt.show()"
   ]
  },
  {
   "cell_type": "code",
   "execution_count": null,
   "metadata": {
    "collapsed": true
   },
   "outputs": [],
   "source": []
  },
  {
   "cell_type": "code",
   "execution_count": null,
   "metadata": {
    "collapsed": true
   },
   "outputs": [],
   "source": []
  }
 ],
 "metadata": {
  "kernelspec": {
   "display_name": "Python 2",
   "language": "python",
   "name": "python2"
  }
 },
 "nbformat": 4,
 "nbformat_minor": 0
}
